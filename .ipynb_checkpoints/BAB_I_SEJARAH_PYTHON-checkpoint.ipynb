{
 "cells": [
  {
   "cell_type": "markdown",
   "metadata": {},
   "source": [
    "# BAB I"
   ]
  },
  {
   "cell_type": "markdown",
   "metadata": {},
   "source": [
    "## **Sejarah Python**"
   ]
  },
  {
   "cell_type": "markdown",
   "metadata": {},
   "source": [
    "Python merupakan bahasa pemrograman tingkat tinggi yang banyak digunakan untuk berbagai bidang pemrograman lanjut dengan sintaksis kode yang dinamis serta dapat digunakan dalam pemrograman berorientasi objek (OOP-Object Oriented Programming). Ide nama python bukan berasal dari nama ular besar yang bernama pyton, tetapi nama python diambil dari acara komedi televisi BBC yang berjudul “ Monthy Python’s Flying Circus”."
   ]
  },
  {
   "cell_type": "markdown",
   "metadata": {},
   "source": [
    "## **Siapa Yang Menciptakan Python?**"
   ]
  },
  {
   "cell_type": "markdown",
   "metadata": {},
   "source": [
    "Python dikembangkan oleh Guido van Rossum di  Centrum Wiskunde and Informatica (CWI, lihat https://www.cwi.nl/ ) Amsterdam pada awal 1990an. Python merupakan kelanjutan dari bahasa pemrograman ABC. Guido masih menjadi penulis utama dalam pengembangan program python sampai sekarang, meskipun saat ini banyak orang yang dapat berkontribusi dalam pengembangan bahasa python.\n",
    "Pada tahun 1995, guido melanjutkan pengembangan program python di  Corporation for National Research Initiatives (CNRI, lihat https://www.cnri.rston.va.us/ ) di Reston, Virginia. Guido merilis beberapa versi python di CNRI. \n",
    "Pada bulan Mei 2000, guido dan tim pengembang program python berpindah dari CNRI ke BeOpen.com dan membentuk BeOpen PythonLabs. Bulan Oktober berpindah ke Digital Creation. Pada tahun 2001, dibentuklah organisasi nirlaba  python yang dibuat khusus untuk semua hal yang berkaitan dengan hak cipta intelektual python demi mencegah python dimiliki perusahaan komersial. Organisasi tersebut adalah Python software Foudation (PSF, lihat https://www.python.org/psf/ ). Semua versi python yang dirilis bersifat open source lihat https://opensource.org/. Dari awal pengembangan hampir semua rilis python menggunakan lisensi GPL-compatible.\n"
   ]
  },
  {
   "cell_type": "markdown",
   "metadata": {},
   "source": [
    "## **Tujuan Python**"
   ]
  },
  {
   "cell_type": "markdown",
   "metadata": {},
   "source": [
    "Guido memberikan tujuan mengembangkan python yaitu:\n",
    "- bahasa yang mudah dan intuitif \n",
    "- open source, sehingga siapa saja dapat berkontribusi untuk pengembangannya\n",
    "- kode yang mudah dimengerti \n",
    "- cocok untuk tugas sehari-hari, memungkinkan untuk waktu pengembangan yang singkat\n"
   ]
  },
  {
   "cell_type": "markdown",
   "metadata": {},
   "source": [
    "## **Apa Yang Membuat Spesial?**"
   ]
  },
  {
   "cell_type": "markdown",
   "metadata": {},
   "source": [
    "Programer dari tingkat pemula sampai tingkat profesional dapat menggunakan bahasa pemrograman python ini. Sehingga python sangat spesial dengan beberapa alasan berikut ini:\n",
    "1.\tPython gratis-python dapat diunduh secara bebas dari laman pengembang www.python.org \n",
    "2.\tMenulis program di python sangat mudah dan cepat.\n",
    "3.\tInstalasi python sangat mudah dan multiplatform sistem operasi. Bisa digunakan di Windows, Linux, maupun Macinthos\n",
    "4.\tMudah dalam belajar python, karena banyak orang yang mengembangkan modul- modul python yang tersedia di internet.\n"
   ]
  },
  {
   "cell_type": "markdown",
   "metadata": {},
   "source": [
    "## **Python 2 VS Python 3**"
   ]
  },
  {
   "cell_type": "markdown",
   "metadata": {},
   "source": [
    "Python 2 merupakan versi lama dari python. Versi 2 saat ini banyak digunakan di lingkungan pengembangan maupun di lingkungan produksi.  Versi 2 lebih transparan dan inklusif untuk pengembangan yang dilengkapi dengan fitur programatikal seperti mengotomasi manajemen memory. Serta peningkatan dukungan unicode. Python versi 3 merupakan kelanjutan pengembangan dari versi 2 dengan beberapa penambahan fitur-fitur baru. Versi 3 muncul karena dukungan untuk pengembangan versi 2 akan segera diakhiri pada tahun 2020. Sehingga dengan demikian versi 3 saat ini benar-benar dikembangkan untuk segera menggantikan versi 2. \n",
    "Perbedaan mendasar antar versi 2 dan versi 3 adalah :\n",
    "Pada Python2, print diperlakukan seperti statemen ketimbang sebuah function.\n"
   ]
  },
  {
   "cell_type": "markdown",
   "metadata": {},
   "source": [
    "```python\n",
    "#Baris program Python 2 \n",
    "print “tidak pakai kurung bisa”\n",
    "print(“pakai kurung juga bisa”)\n",
    "Print “ini”, ; print “mencetak satu baris”\n",
    "```"
   ]
  },
  {
   "cell_type": "markdown",
   "metadata": {},
   "source": [
    "Sedangkan pada Python 3, print diperlakukan sebagai function."
   ]
  },
  {
   "cell_type": "code",
   "execution_count": 3,
   "metadata": {},
   "outputs": [
    {
     "name": "stdout",
     "output_type": "stream",
     "text": [
      "harus pakai kurung\n",
      "ini digunakan untuk mencetak satu baris\n"
     ]
    }
   ],
   "source": [
    "print(\"harus pakai kurung\")\n",
    "print (\"ini digunakan untuk \", end=\"\")\n",
    "print (\"mencetak satu baris\")\n"
   ]
  },
  {
   "cell_type": "markdown",
   "metadata": {},
   "source": [
    "Perubahan ini membuat sintaksis pada Python lebih konsisten.\n",
    "1.\tPembagian pada Integer\n",
    "Pada Python 2, semua tipe data angka yang tidak mengandung desimal akan diperlakukan sebagai integer. Terlihat mudah pada awalnya, ketika mencoba untuk membagi kedua integer akan didapatkan tipe data float. Python 2 menggunakan floor division atau dibulatkan ke nilai paling rendah misalnya 1.5 jadi 1, 2.6 jadi 2 dan seterusnya. \n",
    "Pada Python 3, pembagian pada bilangan integer lebih intuitif\n"
   ]
  },
  {
   "cell_type": "markdown",
   "metadata": {},
   "source": [
    "2.\tDukungan Unicode\n",
    "Python 2 menggunakan alfabet ASCII secara default, sehingga ketika kita mengetik “Halo!”  maka Python 2 menangani string sebagai ASCII. Terbatas pada beberapa ratus karakter, ASCII mungkin bukan pilihan yang fleksibel untuk menangani proses encoding.Untuk menggunakan unicode yang lebih luwes, mendukung lebih dari 128,000 karakter maka kita harus mengetik u”Halo!” , dengan tambahan u  di depannya yang mana berarti Unicode.Python 3 menggunakan Unicode secara default, yang mana menyelamatkan programmer dari tambahan kode lagi, lebih hemat waktu dan mudah untuk diisikan dan ditampilkan. Karena Unicode mendukung berbagai karakter linguistik yang beragam termasuk menampilkan emoji.\n"
   ]
  },
  {
   "cell_type": "code",
   "execution_count": null,
   "metadata": {},
   "outputs": [],
   "source": []
  }
 ],
 "metadata": {
  "kernelspec": {
   "display_name": "Python 3",
   "language": "python",
   "name": "python3"
  },
  "language_info": {
   "codemirror_mode": {
    "name": "ipython",
    "version": 3
   },
   "file_extension": ".py",
   "mimetype": "text/x-python",
   "name": "python",
   "nbconvert_exporter": "python",
   "pygments_lexer": "ipython3",
   "version": "3.7.3"
  }
 },
 "nbformat": 4,
 "nbformat_minor": 2
}
