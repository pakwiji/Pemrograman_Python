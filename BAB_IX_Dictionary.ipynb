{
 "cells": [
  {
   "cell_type": "markdown",
   "metadata": {},
   "source": [
    "# **BAB IX**"
   ]
  },
  {
   "cell_type": "markdown",
   "metadata": {},
   "source": [
    "## **Dictionary**"
   ]
  },
  {
   "cell_type": "markdown",
   "metadata": {},
   "source": [
    "Dictionary dalam python adalah tipe data yang item anggotanya terdidi dari kunci:nilai (key:velue). Cara membuat dictionary ini dengan cara menempatkan item anggotanya dalam tanda kurung kurawal {} dipisah dengan koma (,). Dictionary bersifat tidak urut (unordered). Item anggota disimpan dan diambil dengan kunci (key)dictionary dapat menggantikan banyak algoritma pencarian dan struktur data yang diimplementasikan secara manual dalam bahasa sederhana. Kata kunci harus unik dan tidak boleh ada dua kunci yang sama dalam satu dictionary"
   ]
  },
  {
   "cell_type": "code",
   "execution_count": 1,
   "metadata": {},
   "outputs": [
    {
     "name": "stdout",
     "output_type": "stream",
     "text": [
      "{}\n",
      "{1: 'sepatu', 2: 'tas'}\n",
      "{'warna': 'merah', 1: [2, 3, 5]}\n"
     ]
    }
   ],
   "source": [
    "# Membuat dictionary kosong\n",
    "kamus_1 = {}\n",
    "\n",
    "# dictionary dengan kunci integer\n",
    "kamus_2 = {1: 'sepatu', 2: 'tas'}\n",
    "\n",
    "# dictionary dengan kunci campuran\n",
    "kamus_3 = {'warna': 'merah', 1: [2,3,5]}\n",
    "print(kamus_1)\n",
    "print(kamus_2)\n",
    "print(kamus_3)\n"
   ]
  },
  {
   "cell_type": "markdown",
   "metadata": {},
   "source": [
    "Dictionary tidak menggunakan indeks dalam penulisannya. Cara mengakses item anggotanya dengan menngunakan key yang sudah kita tulis. Untuk mengetahui item anggota dalam dictionari bisa dipanggil dengan beberapa cara.\n",
    "1.\tLangsung dipanggil dengan perintah print item\n"
   ]
  },
  {
   "cell_type": "code",
   "execution_count": 9,
   "metadata": {},
   "outputs": [
    {
     "name": "stdout",
     "output_type": "stream",
     "text": [
      "{'kucing': 'Kitty', 'anjing': 'Guffy', 'kambing': 'Timmy'}\n",
      "{'Umar': 6216042018, 'Aisyah': 6214072016}\n",
      "{}\n",
      "Kitty\n",
      "6214072016\n"
     ]
    }
   ],
   "source": [
    "nama_binatang = { \"kucing\" :  \"Kitty\" , \"anjing\" : \"Guffy\" ,  \"kambing\" : \"Timmy\" }\n",
    "nomer_telp = {'Umar' : 6216042018, 'Aisyah' : 6214072016}\n",
    "DictionaryKosong = {}\n",
    "A=nama_binatang\n",
    "B=nomer_telp\n",
    "C=DictionaryKosong\n",
    "D=nama_binatang['kucing']\n",
    "E=nomer_telp['Aisyah']\n",
    "print(A)\n",
    "print(B)\n",
    "print(C)\n",
    "print(D)\n",
    "print(E)"
   ]
  },
  {
   "cell_type": "markdown",
   "metadata": {},
   "source": [
    "2.\tDengan perintah get()\n"
   ]
  },
  {
   "cell_type": "code",
   "execution_count": 10,
   "metadata": {},
   "outputs": [
    {
     "name": "stdout",
     "output_type": "stream",
     "text": [
      "Timmy\n"
     ]
    }
   ],
   "source": [
    "nama_binatang={\"kucing\": \"Kitty\" ,  \"anjing\" : \"Guffy\" ,  \"kambing\" : \"Timmy\" }\n",
    "print (nama_binatang.get('kambing'))\n"
   ]
  },
  {
   "cell_type": "markdown",
   "metadata": {},
   "source": [
    "Untuk mengetahui isi \n",
    "```python \n",
    "nama_binatang={\"kucing\" :  \"Kitty\" ,  \"anjing\" : \"Guffy\" ,  \"kambing\" : \"Timmy\" }\n",
    "```"
   ]
  },
  {
   "cell_type": "code",
   "execution_count": 16,
   "metadata": {},
   "outputs": [
    {
     "name": "stdout",
     "output_type": "stream",
     "text": [
      "harimau is not in dictionary\n",
      "kucing -> Kitty\n",
      "anjing -> Guffy\n",
      "kambing -> Timmy\n"
     ]
    }
   ],
   "source": [
    "words = { 'kucing' ,  'harimau' ,  'kambing' ,  'anjing' }\n",
    "for word in words:\n",
    "    if word in nama_binatang:\n",
    "        print(word, \"->\", nama_binatang[word])\n",
    "    else:\n",
    "        print( word, \"is not in dictionary\")\n"
   ]
  },
  {
   "cell_type": "markdown",
   "metadata": {},
   "source": [
    "dalam contoh diperlihatkan bahwa dalam dictionary mempunyai item dan nilai yang sudah disimpan dalam dictionary ```nama_binatang```. Selanjutnya dalam baris perintah words ada item key ```‘harimau’```. Hasilnya ketika di runing program maka akan terlihat bahwa key ```‘harimau’``` tidak berada dalam dictionary. Dalam python 3.x urutan item dalam dictionary sudah otomatis tersusun sesuai abjad. \n",
    "Menghapus item yang diinginkan dalam dictionary dapat dilakukan dengan menggunakan perintah fungsi ```pop()```, adapun untuk menhapus item secara random dapat menggunakan perintah ```popitem()```,untuk menghapus semua item anggota dictionary dapat menggunakan perintah fungsi ```clear()```.\n"
   ]
  },
  {
   "cell_type": "code",
   "execution_count": 17,
   "metadata": {},
   "outputs": [
    {
     "name": "stdout",
     "output_type": "stream",
     "text": [
      "{'kucing': 'Kitty', 'kambing': 'Timmy'}\n"
     ]
    }
   ],
   "source": [
    "#menghapus item tertentu\n",
    "nama_binatang={\"kucing\" :  \"Kitty\", \"anjing\" : \"Guffy\" ,  \"kambing\" : \"Timmy\"}\n",
    "nama_binatang.pop('anjing')\n",
    "print(nama_binatang)\n"
   ]
  },
  {
   "cell_type": "markdown",
   "metadata": {},
   "source": [
    "**Mengganti Nilai Item Dictionary** <br>\n",
    "Dictionary bersifat mutable, artinya Nilai dictionary dapat diubah-ubah sesuai dengan kebutuhan kita. Untuk mengganti nilai item dictionary dapat dilakukan dengan cara berikut ini:\n"
   ]
  },
  {
   "cell_type": "code",
   "execution_count": 18,
   "metadata": {},
   "outputs": [
    {
     "name": "stdout",
     "output_type": "stream",
     "text": [
      "{'kucing': 'Kitty', 'anjing': 'Pluto', 'kambing': 'Timmy'}\n"
     ]
    }
   ],
   "source": [
    "nama_binatang={\"kucing\": \"Kitty\", \"anjing\" : \"Guffy\" ,  \"kambing\" : \"Timmy\"}\n",
    "nama_binatang['anjing']='Pluto'\n",
    "print(nama_binatang)\n"
   ]
  },
  {
   "cell_type": "markdown",
   "metadata": {},
   "source": [
    "**Menambah Item Di Dictionary** <br>\n",
    "Kita bisa menambah item dalam seuah dictionary. Berikut cara yang bisa digunakan\n"
   ]
  },
  {
   "cell_type": "code",
   "execution_count": 20,
   "metadata": {},
   "outputs": [
    {
     "name": "stdout",
     "output_type": "stream",
     "text": [
      "{'kucing': 'Kitty', 'anjing': 'Guffy', 'kambing': 'Timmy', 'bebek': 'Donald'}\n"
     ]
    }
   ],
   "source": [
    "nama_binatang={\"kucing\": \"Kitty\", \"anjing\" : \"Guffy\",  \"kambing\" : \"Timmy\"}\n",
    "nama_binatang['bebek']='Donald'\n",
    "print(nama_binatang)\n"
   ]
  },
  {
   "cell_type": "code",
   "execution_count": null,
   "metadata": {},
   "outputs": [],
   "source": []
  }
 ],
 "metadata": {
  "kernelspec": {
   "display_name": "Python 3",
   "language": "python",
   "name": "python3"
  },
  "language_info": {
   "codemirror_mode": {
    "name": "ipython",
    "version": 3
   },
   "file_extension": ".py",
   "mimetype": "text/x-python",
   "name": "python",
   "nbconvert_exporter": "python",
   "pygments_lexer": "ipython3",
   "version": "3.7.3"
  }
 },
 "nbformat": 4,
 "nbformat_minor": 2
}
