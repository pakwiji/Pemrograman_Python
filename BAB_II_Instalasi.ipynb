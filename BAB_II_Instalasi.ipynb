{
 "cells": [
  {
   "cell_type": "markdown",
   "metadata": {},
   "source": [
    "# **BAB II**"
   ]
  },
  {
   "cell_type": "markdown",
   "metadata": {},
   "source": [
    "## **Instalasi Python**"
   ]
  },
  {
   "cell_type": "markdown",
   "metadata": {},
   "source": [
    "1. Download Dan Instalasi Download installer python \n",
    "Buka laman https://www.python.org/ pilih tab download. Download installer python di situs https://www.python.org/download. Di sini kita menggunakan python versi 3.8. Silahkan pilih apakah Anda mau menggunakan versi 32 bit, atau 64 bit. Di sini kita gunakan versi 32 bit.Tunggu hingga proses download selesai. Setelah selesai, buka folder tempat python terdownload. Instalasi python Buka folder tempat python terdownload, Klik Run Isi dengan C:\\Python38 (lokasi instalasi pada drive C). Saran penulis untuk hal ini hindari dalam penulisan lokasi instalasi dengan pemisahan nama lokasi instalasi dengan karakter spasi. Karena biasanya akan menimbulkan error saat running python. Jika sudah berhasil maka setup progress akan berjalan. Instalasi berhasil, Demikianlah proses instalasi Python di Windows. Python sudah siap digunakan untuk membuat program yang Anda inginkan."
   ]
  },
  {
   "cell_type": "markdown",
   "metadata": {},
   "source": [
    "![alt text](gambar/instalasi.jpg \"Instalasi\")"
   ]
  },
  {
   "cell_type": "markdown",
   "metadata": {},
   "source": [
    "## **Cek Instalasi Python**"
   ]
  },
  {
   "cell_type": "markdown",
   "metadata": {},
   "source": [
    "Jika sudah berhasil instalasi maka perlu dicoba terlebih dahulu apakah program python sudah terinstal dengan benar. Buka command prompt pada windows (CMD)."
   ]
  },
  {
   "cell_type": "markdown",
   "metadata": {},
   "source": [
    "![alt text](gambar/cmd1.jpg)"
   ]
  },
  {
   "cell_type": "markdown",
   "metadata": {},
   "source": [
    "## **Uji Coba Program Pertama**"
   ]
  },
  {
   "cell_type": "markdown",
   "metadata": {},
   "source": [
    "Pertama, kita coba dulu membuka Python IDLE. IDLE merupakan program editor bawaan Python. IDLE bisa digunakan dalam untuk menjalankan python dalam mode interaktif. Arti interaktif di sini adalah ketika Anda mengetikkan perintah, maka hasilnya akan langsung ditampilkan. Silahkan buka Start Menu kemudian cari Python IDLE. Pada jendela interaktif Anda tidak bisa mengetikkan program dengan jumlah baris yang banyak. Mode interaktif ini hanya cocok digunakan untuk melakukan uji coba perintah – perintah pendek dan melihat hasilnya.\n",
    "Bila Anda akan menuliskan program dengan jumlah baris yang banyak, Anda sebaiknya menggunakan program editor teks.\n"
   ]
  },
  {
   "cell_type": "code",
   "execution_count": 2,
   "metadata": {},
   "outputs": [
    {
     "name": "stdout",
     "output_type": "stream",
     "text": [
      "Hello World!\n"
     ]
    }
   ],
   "source": [
    "print(\"Hello World!\")"
   ]
  },
  {
   "cell_type": "markdown",
   "metadata": {},
   "source": [
    "![alt text](gambar/hello.jpg )"
   ]
  },
  {
   "cell_type": "markdown",
   "metadata": {},
   "source": [
    "Untuk penulisan program yang panjang dapat menggunakan program python editor. Ada beberapa macam program editor yang digunakan. Salah satunya dengan menggunakan program Jetbrain Pycharm. Berikut tahapan instalasi program Jetbrain Pycharm.\n",
    "Download di https://www.jetbrains.com/pycharm/ pilih tab download.\n",
    "![alt text](gambar/jetbrain.jpg)"
   ]
  },
  {
   "cell_type": "markdown",
   "metadata": {},
   "source": [
    "Tampilan editor program python 001_hello_world.py\n",
    "![alt text](gambar/jetbrain2.jpg)"
   ]
  },
  {
   "cell_type": "code",
   "execution_count": null,
   "metadata": {},
   "outputs": [],
   "source": []
  }
 ],
 "metadata": {
  "kernelspec": {
   "display_name": "Python 3",
   "language": "python",
   "name": "python3"
  },
  "language_info": {
   "codemirror_mode": {
    "name": "ipython",
    "version": 3
   },
   "file_extension": ".py",
   "mimetype": "text/x-python",
   "name": "python",
   "nbconvert_exporter": "python",
   "pygments_lexer": "ipython3",
   "version": "3.7.3"
  }
 },
 "nbformat": 4,
 "nbformat_minor": 2
}
