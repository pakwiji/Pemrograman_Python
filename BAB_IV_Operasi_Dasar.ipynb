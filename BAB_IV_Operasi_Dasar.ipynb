{
 "cells": [
  {
   "cell_type": "markdown",
   "metadata": {},
   "source": [
    "# **BAB IV**"
   ]
  },
  {
   "cell_type": "markdown",
   "metadata": {},
   "source": [
    "## **OPERASI DASAR**"
   ]
  },
  {
   "cell_type": "markdown",
   "metadata": {},
   "source": [
    "Python membutuhkan simbol-simbol tertentu untuk melakukan eksekusi sebuah perintah perhitungan aritmatika maupun perintah logika. Simbol dalam python disebut dengan operator, sedangkan istilah operand didefinisikan sebagai nilai yang akan dilakukan sebuah operasi. Ada beberapa operator utama yang sering digunakan dalam python. Antara lain:\n",
    "1.\toperator aritmatika\n",
    "2.\toperator perbandingan\n",
    "3.\toperator penugasan\n",
    "4.\toperator logika\n",
    "5.\toperator bitwise\n"
   ]
  },
  {
   "cell_type": "markdown",
   "metadata": {},
   "source": [
    "1.\tOperator Aritmatika\n",
    "Operator aritmatika bertugas untuk melakukan eksekusi perintah dalam operasi matematika, penjumlahan, pengurangan, perkalian, pembagian dan lainnya.\n"
   ]
  },
  {
   "cell_type": "markdown",
   "metadata": {},
   "source": [
    "| Nama Fungsi     | Operator |     Contoh Penggunaan|\n",
    "|-------------|----------|------------------|\n",
    "|Penjumlahan  |    +     | 6+2              |\n",
    "|Pengurangan  |    _     | 6-2              |\n",
    "|Perkalian  |    *     | 6 * 2              |\n",
    "|Pembagian  |    /     | 6/2              |\n",
    "|Pemangkatan  |    **     | 6* * 2              |\n",
    "|Pembagian bulat  |    //     | 6//2              |\n",
    "|Modulus <br>(sisa pembagian <br> 2 bilangan)  |    %     | 6%2              |"
   ]
  },
  {
   "cell_type": "code",
   "execution_count": 2,
   "metadata": {},
   "outputs": [
    {
     "name": "stdout",
     "output_type": "stream",
     "text": [
      "x= 14\n",
      "y= 5\n",
      "x+y= 19\n",
      "x-y= 9\n",
      "x*y= 70\n",
      "x/y= 2.8\n",
      "x//y= 2\n",
      "x%y= 4\n",
      "x**y= 537824\n"
     ]
    }
   ],
   "source": [
    "x = 14\n",
    "y = 5\n",
    "\n",
    "print(\"x=\",x)\n",
    "\n",
    "print(\"y=\",y)\n",
    "print(\"x+y=\", (x+y))\n",
    "print(\"x-y=\", (x-y))\n",
    "print(\"x*y=\", (x*y))\n",
    "print(\"x/y=\", (x/y))\n",
    "print(\"x//y=\", (x//y))\n",
    "print(\"x%y=\", (x%y))\n",
    "print(\"x**y=\", (x**y))\n"
   ]
  },
  {
   "cell_type": "markdown",
   "metadata": {},
   "source": [
    "2.\tOperator Perbandingan\n",
    "Fungsi dari operator perbandingan ini adalah untuk membandingkan  dua buah atau lebih nilai dalam operand. Hasil operasi ini bernilai True atau False.\n"
   ]
  },
  {
   "cell_type": "code",
   "execution_count": 3,
   "metadata": {},
   "outputs": [
    {
     "name": "stdout",
     "output_type": "stream",
     "text": [
      "masukkan a = 5\n",
      "masukkan b = 6\n",
      "masukkan c = 7\n",
      "masukkan d = 7\n",
      "a==b False\n",
      "a==c False\n",
      "a!=b True\n",
      "a>d False\n",
      "b<d True\n",
      "b<=d True\n",
      "b>=d False\n"
     ]
    }
   ],
   "source": [
    "a = int(input(\"masukkan a = \"))\n",
    "b = int(input(\"masukkan b = \"))\n",
    "c = int(input(\"masukkan c = \"))\n",
    "d = int(input(\"masukkan d = \"))\n",
    "print(\"a==b\",a==b)\n",
    "print(\"a==c\",a==c)\n",
    "print(\"a!=b\",a!=b)\n",
    "print(\"a>d\",a>d)\n",
    "print(\"b<d\",b<d)\n",
    "print(\"b<=d\",b<=d)\n",
    "print(\"b>=d\",b>=d)\n",
    "\n"
   ]
  },
  {
   "cell_type": "markdown",
   "metadata": {},
   "source": [
    "3.\tOperator Penugasan\n",
    "<br>Operator penugasan ini digunakan untuk memberikan tugas pada variabel yang sudah dideskripsikan terlebih dahulu.\n",
    "Misalnya x=9 adalah operator penugasan untuk memeberikan nilai 9 kepada variabel x\n",
    "\n",
    "4.\tOperator Logika\n",
    "<br>Operator logika adalah digunakan untuk melakukan operasi logika.\n",
    "\n",
    "5.\tOperator Bitwise\n",
    "<br>Operator bitwise merupakan operator untuk melakukan operasi berdasarkan bit/biner terhadap operandnya.\n"
   ]
  },
  {
   "cell_type": "code",
   "execution_count": null,
   "metadata": {},
   "outputs": [],
   "source": []
  }
 ],
 "metadata": {
  "kernelspec": {
   "display_name": "Python 3",
   "language": "python",
   "name": "python3"
  },
  "language_info": {
   "codemirror_mode": {
    "name": "ipython",
    "version": 3
   },
   "file_extension": ".py",
   "mimetype": "text/x-python",
   "name": "python",
   "nbconvert_exporter": "python",
   "pygments_lexer": "ipython3",
   "version": "3.7.3"
  }
 },
 "nbformat": 4,
 "nbformat_minor": 2
}
