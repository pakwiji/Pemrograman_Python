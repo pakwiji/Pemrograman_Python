{
 "cells": [
  {
   "cell_type": "markdown",
   "metadata": {},
   "source": [
    "# **BAB VII**"
   ]
  },
  {
   "cell_type": "markdown",
   "metadata": {},
   "source": [
    "## **LIST**"
   ]
  },
  {
   "cell_type": "markdown",
   "metadata": {},
   "source": [
    "Python mengenal beberapa macam jenis data, salah satunya jenis data List. List adalah jenis data berurut yang berisi satu atau beberapa nilai. Nilai tersebut dapat berisi satu tipe data atau bisa campur beberapa jenis data. Misalnya data integer, float, string, dan lainnya. Penulisan list dimulai dengan tanda kurung [] dengan item anggota didalamnya dipisahkan dengan tanda koma.\n",
    "\n",
    "Berikut contoh penulisan list."
   ]
  },
  {
   "cell_type": "code",
   "execution_count": 2,
   "metadata": {},
   "outputs": [
    {
     "name": "stdout",
     "output_type": "stream",
     "text": [
      "[]\n",
      "[1, 2, 3, 4, 5]\n",
      "[1, 2.3, 'Umar']\n",
      "['Aisyah', [1, 2, 3], ['x', 'y']]\n"
     ]
    }
   ],
   "source": [
    "\n",
    "# list kosong\n",
    "list_1 = []\n",
    "# list yang berisi integer\n",
    "list_2 = [1,2,3,4,5]\n",
    "# list yang berisi tipe data campuran(integer, float, string)\n",
    "list_3 = [1, 2.3, \"Umar\"]\n",
    "# Nested list yaitu List yang juga bisa berisi list lain \n",
    "list_4 = [\"Aisyah\", [1,2,3], ['x','y']]\n",
    "print(list_1)\n",
    "print(list_2)\n",
    "print(list_3)\n",
    "print(list_4)\n"
   ]
  },
  {
   "cell_type": "markdown",
   "metadata": {},
   "source": [
    "Keterangan output:\n",
    "```List_1``` berisi list kosong sehingga tidak ada isi dalam tanda kurung []\n",
    "```List_2``` berisi tipe data integer\n",
    "```List_3``` berisi tipe data 1 = ```intger```, 2.3 = ```float```, ‘Umar’ = ```string```\n",
    "```List_4``` berisi list dalam list. Atau list bersarang (nested). Isinya berupa string, list ```integer``` dan list ```string```\n"
   ]
  },
  {
   "cell_type": "markdown",
   "metadata": {},
   "source": [
    "Mengenal  Indeks List\n",
    "<br>Indeks list dimulai dari 0. List memiliki indeks sama seperti array. Nomer indeks digunakan untuk mengakses data atau nilai item isinya. Format untuk memanggil anggota list dengan cara namalist[indeks]. Misal ada list yang berisi 7 item anggota maka akan memiliki indeks yang dimulai dari 0 sampai dengan 6. Apabila kita memanggil indeks diluar 0 sampai 6 maka akan muncul error ```IndexError```.\n",
    "\n",
    "Contoh cara mengakses item list sebagai berikut ini:\n"
   ]
  },
  {
   "cell_type": "code",
   "execution_count": 3,
   "metadata": {},
   "outputs": [
    {
     "name": "stdout",
     "output_type": "stream",
     "text": [
      "[9, 7, 6, 3, 2]\n",
      "6\n",
      "9\n"
     ]
    }
   ],
   "source": [
    "angka = [9, 7, 6, 3, 2]\n",
    "print(angka)\n",
    "print(angka[2])\n",
    "print(angka[0])\n"
   ]
  },
  {
   "cell_type": "markdown",
   "metadata": {},
   "source": [
    "Keterangan dari output diatas adalah\n",
    "1.\t```Print(angka)``` untuk memanggil semua anggota list dari angka. Maka akan menghasilkan ```[9, 7, 6, 3, 2]```\n",
    "2.\t```Print(angka[2])``` untuk memanggil anggota list pada indeks nomer ```2```. Yaitu ```6```\n",
    "3.\t```Print(angka[0])``` untuk memanggil anggota list pada indeks nomer 0 atau yang pertama. Maka akan menghasilkan 9\n",
    "Penulisan indeks juga bisa menggunakan indeks negatif. Penulisan dimulai dengan anggota indeks paling belakang dengan indeks -1, kemudian -2 dan seterusnya. Contoh penggunakan indeks negatif seperti pada program berikut ini:"
   ]
  },
  {
   "cell_type": "code",
   "execution_count": 4,
   "metadata": {},
   "outputs": [
    {
     "name": "stdout",
     "output_type": "stream",
     "text": [
      "[9, 7, 6, 3, 2]\n",
      "2\n",
      "6\n",
      "9\n"
     ]
    },
    {
     "ename": "IndexError",
     "evalue": "list index out of range",
     "output_type": "error",
     "traceback": [
      "\u001b[1;31m---------------------------------------------------------------------------\u001b[0m",
      "\u001b[1;31mIndexError\u001b[0m                                Traceback (most recent call last)",
      "\u001b[1;32m<ipython-input-4-d152803d6099>\u001b[0m in \u001b[0;36m<module>\u001b[1;34m\u001b[0m\n\u001b[0;32m      4\u001b[0m \u001b[0mprint\u001b[0m\u001b[1;33m(\u001b[0m\u001b[0mangka\u001b[0m\u001b[1;33m[\u001b[0m\u001b[1;33m-\u001b[0m\u001b[1;36m3\u001b[0m\u001b[1;33m]\u001b[0m\u001b[1;33m)\u001b[0m\u001b[1;33m\u001b[0m\u001b[1;33m\u001b[0m\u001b[0m\n\u001b[0;32m      5\u001b[0m \u001b[0mprint\u001b[0m\u001b[1;33m(\u001b[0m\u001b[0mangka\u001b[0m\u001b[1;33m[\u001b[0m\u001b[1;33m-\u001b[0m\u001b[1;36m5\u001b[0m\u001b[1;33m]\u001b[0m\u001b[1;33m)\u001b[0m\u001b[1;33m\u001b[0m\u001b[1;33m\u001b[0m\u001b[0m\n\u001b[1;32m----> 6\u001b[1;33m \u001b[0mprint\u001b[0m\u001b[1;33m(\u001b[0m\u001b[0mangka\u001b[0m\u001b[1;33m[\u001b[0m\u001b[1;33m-\u001b[0m\u001b[1;36m6\u001b[0m\u001b[1;33m]\u001b[0m\u001b[1;33m)\u001b[0m\u001b[1;33m\u001b[0m\u001b[1;33m\u001b[0m\u001b[0m\n\u001b[0m",
      "\u001b[1;31mIndexError\u001b[0m: list index out of range"
     ]
    }
   ],
   "source": [
    "angka = [9, 7, 6, 3, 2]\n",
    "print(angka)\n",
    "print(angka[-1])\n",
    "print(angka[-3])\n",
    "print(angka[-5])\n",
    "print(angka[-6])\n"
   ]
  },
  {
   "cell_type": "markdown",
   "metadata": {},
   "source": [
    "Keterangan dari output diatas adalah\n",
    "1.\t```Print(angka)``` untuk memanggil semua anggota list dari angka. Maka akan menghasilkan [9, 7, 6, 3, 2]\n",
    "2.\t```Print(angka[-1])``` untuk memanggil anggota list pada indeks nomer -1 atau yang paling akhir. Yaitu 2\n",
    "3.\t```Print(angka[-3])``` untuk memanggil anggota list pada indeks nomer -3. Maka akan menghasilkan 6\n",
    "4.\t```Print(angka[-5])``` untuk memanggil anggota list pada indeks nomer -5. Maka akan menghasilkan 9\n",
    "5.\t```Print(angka[-6])``` untuk memanggil anggota list pada indeks nomer -6. Maka akan menghasilkan ```IndexError: list index out of range```. ```Error``` ini menunjukkan bahwa list tersebut berisi indeks dari -1 sampai dengan -5.  Indeks -6 diluar list indeks. Maka hasilnya akan error.\n"
   ]
  },
  {
   "cell_type": "code",
   "execution_count": 5,
   "metadata": {},
   "outputs": [
    {
     "name": "stdout",
     "output_type": "stream",
     "text": [
      "['f', 'i', 's', 'i', 'k']\n",
      "['f', 'i', 's', 'i', 'k', 'a']\n",
      "['g', 'e', '0']\n",
      "[]\n"
     ]
    }
   ],
   "source": [
    "#slice\n",
    "jurusan = ['g','e','0','f','i','s','i','k','a'] \n",
    "# anggota list dari 3 s/d 6 (dari f s/d k) \n",
    "print(jurusan[3:8]) \n",
    "# anggota list dari 3 s/d yang terakhir \n",
    "print(jurusan[3:]) \n",
    "# anggota list dari 0 s/d 4 \n",
    "print(jurusan[:3]) \n",
    "# indeks dari belakang dari -1 s/d -4 \n",
    "print(jurusan[-1:-5])\n"
   ]
  },
  {
   "cell_type": "markdown",
   "metadata": {},
   "source": [
    "List bersifat mutable artinya isi item list dapat diubah-ubah. Item list bisa ditambah, dikurangi, maupun dihapus. Berikut panduan cara penulisannya.\n",
    "Untuk menambah item list ada 2 cara yang bisa digunakan.\n",
    "1.\t```append(item)``` menambahkan item dari belakang.\n",
    "2.\t```insert(index, item)``` menambahkan item dari indeks tertentu.\n"
   ]
  },
  {
   "cell_type": "code",
   "execution_count": null,
   "metadata": {},
   "outputs": [],
   "source": []
  }
 ],
 "metadata": {
  "kernelspec": {
   "display_name": "Python 3",
   "language": "python",
   "name": "python3"
  },
  "language_info": {
   "codemirror_mode": {
    "name": "ipython",
    "version": 3
   },
   "file_extension": ".py",
   "mimetype": "text/x-python",
   "name": "python",
   "nbconvert_exporter": "python",
   "pygments_lexer": "ipython3",
   "version": "3.7.3"
  }
 },
 "nbformat": 4,
 "nbformat_minor": 2
}
