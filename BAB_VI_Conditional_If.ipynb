{
 "cells": [
  {
   "cell_type": "markdown",
   "metadata": {},
   "source": [
    "# **BAB VI**\n"
   ]
  },
  {
   "cell_type": "markdown",
   "metadata": {},
   "source": [
    "## **Conditional IF**"
   ]
  },
  {
   "cell_type": "markdown",
   "metadata": {},
   "source": [
    "Python hanya memiliki satu statement untuk melakukan proses pemilihan, yaitu dengan menggunakan if. Percabangan adalah cara yang digunakan untuk mengambil keputusan apabila di dalam program dihadapkan pada kondisi tertentu. Jumlah kondisinya bisa satu, dua atau lebih. Percabangan mengevaluasi kondisi atau ekspresi yang hasilnya benar atau salah .  Kondisi atau ekspresi tersebut disebut ekspresi boolean. Hasil dari pengecekan kondisi adalah True atau False. Bila benar (True), maka pernyataan yang ada di dalam blok kondisi tersebut akan dieksekusi. Bila salah (False), maka blok pernyataan lain yang dieksekusi. (Pythonindo, 2019)"
   ]
  },
  {
   "cell_type": "markdown",
   "metadata": {},
   "source": [
    "Struktur pemilihan dapat dikelompkkan menjadi tiga, yaitu:\n",
    "1.\tStatement if untuk satu kasus\n",
    "2.\tStatement if untuk dua kasus\n",
    "3.\tStatement if untuk tiga kasus\n"
   ]
  },
  {
   "cell_type": "markdown",
   "metadata": {},
   "source": [
    "1.\tStatement if untuk satu kasus\n",
    "<br>Pernyataan if menguji satu buah kondisi. Bila hasilnya benar maka pernyataan di dalam blok if tersebut dieksekusi. Bila salah, maka pernyataan tidak dieksekusi. Blok diagram alir untuk kondisi 1 buah kasus."
   ]
  },
  {
   "cell_type": "markdown",
   "metadata": {},
   "source": [
    "```python\n",
    "if tes kondisi:\n",
    "   blok pernyataan if\n",
    "```"
   ]
  },
  {
   "cell_type": "code",
   "execution_count": 1,
   "metadata": {},
   "outputs": [
    {
     "name": "stdout",
     "output_type": "stream",
     "text": [
      "masukkan a = 5\n",
      "masukkan b = 5\n",
      "ya, sama!\n",
      "Lanjutkan!!\n"
     ]
    }
   ],
   "source": [
    "a = int(input(\"masukkan a = \"))\n",
    "b = int(input(\"masukkan b = \"))\n",
    "if a==b:\n",
    "    print(\"ya, sama!\")\n",
    "print(\"Lanjutkan!!\")\n"
   ]
  },
  {
   "cell_type": "markdown",
   "metadata": {},
   "source": [
    "2.\tStatement if untuk dua kasus\n",
    "<br>Pernyataan if…else menguji 2 kondisi. Kondisi pertama kalau benar, dan kondisi kedua kalau salah. Sintaksnya adalah seperti berikut:\n"
   ]
  },
  {
   "cell_type": "markdown",
   "metadata": {},
   "source": [
    "``` python\n",
    "if tes kondisi:\n",
    "    blok pernyataan if\n",
    "else:\n",
    "    blok pernyataan else\n",
    "```"
   ]
  },
  {
   "cell_type": "code",
   "execution_count": 2,
   "metadata": {},
   "outputs": [
    {
     "name": "stdout",
     "output_type": "stream",
     "text": [
      "masukkan a = 7\n",
      "masukkan b = 9\n",
      "a dan b, Kok beda ya?\n"
     ]
    }
   ],
   "source": [
    "a = int(input(\"masukkan a = \"))\n",
    "b = int(input(\"masukkan b = \"))\n",
    "\n",
    "if a==b:\n",
    "    print(\"a dan b, sama!\")\n",
    "else:\n",
    "    print(\"a dan b, Kok beda ya?\")\n"
   ]
  },
  {
   "cell_type": "markdown",
   "metadata": {},
   "source": [
    "3.\tStatement if untuk tiga kasus\n",
    "<br>Pernyataan if…elif…else digunakan untuk menguji lebih dari 2 kondisi. Bila kondisi pada if benar, maka pernyataan di dalamnya yang dieksekusi. Bila salah, maka masuk ke pengujian kondisi elif. Terakhir bila tidak ada if atau elif yang benar, maka yang dijalankan adalah yang di blok else. Sintaksnya adalah seperti berikut:\n"
   ]
  },
  {
   "cell_type": "markdown",
   "metadata": {},
   "source": [
    "```python\n",
    "if tes kondisi:\n",
    "    blok pernyataan if\n",
    "elif tes kondisi:\n",
    "    blok pernyataan elif\n",
    "else:\n",
    "    blok pernyataan else\n",
    "```"
   ]
  },
  {
   "cell_type": "code",
   "execution_count": 3,
   "metadata": {},
   "outputs": [
    {
     "name": "stdout",
     "output_type": "stream",
     "text": [
      "Masukkan nilai anda :  60\n",
      "Tidak Lulus\n"
     ]
    }
   ],
   "source": [
    "a = int(input(\"Masukkan nilai anda :  \"))\n",
    "if a > 80:\n",
    "    print(\"Sangat Baik\")\n",
    "elif a > 70:\n",
    "    print(\"Baik\")\n",
    "elif a > 60:\n",
    "    print(\"Cukup\")\n",
    "else:\n",
    "    print(\"Tidak Lulus\")\n"
   ]
  },
  {
   "cell_type": "code",
   "execution_count": null,
   "metadata": {},
   "outputs": [],
   "source": []
  }
 ],
 "metadata": {
  "kernelspec": {
   "display_name": "Python 3",
   "language": "python",
   "name": "python3"
  },
  "language_info": {
   "codemirror_mode": {
    "name": "ipython",
    "version": 3
   },
   "file_extension": ".py",
   "mimetype": "text/x-python",
   "name": "python",
   "nbconvert_exporter": "python",
   "pygments_lexer": "ipython3",
   "version": "3.7.3"
  }
 },
 "nbformat": 4,
 "nbformat_minor": 2
}
