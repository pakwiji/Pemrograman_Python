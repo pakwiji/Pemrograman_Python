{
 "cells": [
  {
   "cell_type": "markdown",
   "metadata": {},
   "source": [
    "# **BAB III**"
   ]
  },
  {
   "cell_type": "markdown",
   "metadata": {},
   "source": [
    "## **Sintaks Dasar, Variabel dan Tipe data**"
   ]
  },
  {
   "cell_type": "markdown",
   "metadata": {},
   "source": [
    "**1. Sintaks Dasar**"
   ]
  },
  {
   "cell_type": "markdown",
   "metadata": {},
   "source": [
    "Filosofi python dalam pemrograman adalah sederhana dan mudah dalam pemakaian. Sehingga python mempunyai sintaks yang sederhana dan mudah untuk dipahami. Ada aturan dalam penulisan sintaks python, yaitu:\n",
    "1.\tPenulisan Statement (Pernyataan) \n",
    "Statement adalah sebuah bentuk perintah atau instruksi yang akan dijalankan oleh komputer, penulisan statement tidak diakhiri dengan tanda titik atau titik koma. Sedangkan apa bila multistatement dalam satu baris, maka penulisan dipisah dengan titik koma. Akan tetapi penulisan multi statement dalam satu baris ini tidak disarankan.\n",
    "\n",
    "Contoh penulisan statement per baris,\n"
   ]
  },
  {
   "cell_type": "code",
   "execution_count": 2,
   "metadata": {},
   "outputs": [
    {
     "name": "stdout",
     "output_type": "stream",
     "text": [
      "harus pakai kurung\n",
      "ini digunakan untuk\n",
      "mencetak satu baris\n"
     ]
    }
   ],
   "source": [
    "print ('harus pakai kurung')\n",
    "print (\"ini digunakan untuk\")\n",
    "print (\"mencetak satu baris\")\n"
   ]
  },
  {
   "cell_type": "markdown",
   "metadata": {},
   "source": [
    "contoh penulisan statement dalam satu baris"
   ]
  },
  {
   "cell_type": "code",
   "execution_count": 3,
   "metadata": {},
   "outputs": [
    {
     "name": "stdout",
     "output_type": "stream",
     "text": [
      "harus pakai kurung\n",
      "ini digunakan untuk\n",
      "mencetak satu baris\n"
     ]
    }
   ],
   "source": [
    "print ('harus pakai kurung'); print (\"ini digunakan untuk\" ); print (\"mencetak satu baris\")"
   ]
  },
  {
   "cell_type": "markdown",
   "metadata": {},
   "source": [
    "Sintaks Python Bersifat Case Sensitive\n",
    "Case sensitve pada sintaks python ini artinya sintaks sangat memperhatikan besar kecil dari variabel yang ditulis. \n"
   ]
  },
  {
   "cell_type": "code",
   "execution_count": 4,
   "metadata": {},
   "outputs": [
    {
     "name": "stdout",
     "output_type": "stream",
     "text": [
      "Gunung\n",
      "Merapi\n"
     ]
    }
   ],
   "source": [
    "depan = \"Gunung\"\n",
    "Depan = \"Merapi\"\n",
    "print(depan)\n",
    "print(Depan)\n"
   ]
  },
  {
   "cell_type": "markdown",
   "metadata": {},
   "source": [
    "Komentar Pada Python\n",
    "Baris komentar dalam python diawali dengan karakter tanda pagar (#). Komentar berisi kode yang tidak akan dieksekusi oleh python. Kode dalam komentar berisi penjelasan atau keterangan yang ditambahkan untuk memperjelas baris perintah didepannya.\n"
   ]
  },
  {
   "cell_type": "code",
   "execution_count": 9,
   "metadata": {},
   "outputs": [
    {
     "name": "stdout",
     "output_type": "stream",
     "text": [
      "20.0\n"
     ]
    }
   ],
   "source": [
    "s = 300 # jarak benda pada 30 meter\n",
    "t = 15 # waktu benda berpindah selama 15 detik\n",
    "v= s/t  # rumus kecepatan jarak dibagi waktu\n",
    "print(v)  #besarnya kecepatan yang ditempuh satuan m/s\n",
    "\n"
   ]
  },
  {
   "cell_type": "markdown",
   "metadata": {},
   "source": [
    "## **2. Variabel**"
   ]
  },
  {
   "cell_type": "markdown",
   "metadata": {},
   "source": [
    "Variabel merupakan tempat didalam memori yang digunakan untuk penyimpanan data. Tempat terebut berisi tipe data python, misalnya: string, integer, float, boolean dan lainnya"
   ]
  },
  {
   "cell_type": "markdown",
   "metadata": {},
   "source": [
    "## **3.\tTipe Data Python**"
   ]
  },
  {
   "cell_type": "markdown",
   "metadata": {},
   "source": [
    "Secara umum pyton mempunyai 3 jenis utama tipe data, antara lain:\n",
    "1.\tTipe data bilangan (number)\n",
    "2.\tTipe data teks\n",
    "3.\tTipe data boolean\n"
   ]
  },
  {
   "cell_type": "code",
   "execution_count": null,
   "metadata": {},
   "outputs": [],
   "source": []
  }
 ],
 "metadata": {
  "kernelspec": {
   "display_name": "Python 3",
   "language": "python",
   "name": "python3"
  },
  "language_info": {
   "codemirror_mode": {
    "name": "ipython",
    "version": 3
   },
   "file_extension": ".py",
   "mimetype": "text/x-python",
   "name": "python",
   "nbconvert_exporter": "python",
   "pygments_lexer": "ipython3",
   "version": "3.7.3"
  }
 },
 "nbformat": 4,
 "nbformat_minor": 2
}
