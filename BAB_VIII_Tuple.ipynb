{
 "cells": [
  {
   "cell_type": "markdown",
   "metadata": {},
   "source": [
    "# **BAB VIII**"
   ]
  },
  {
   "cell_type": "markdown",
   "metadata": {},
   "source": [
    "## **Tuple**"
   ]
  },
  {
   "cell_type": "markdown",
   "metadata": {},
   "source": [
    "Tuple merupakan list yang immutable. Artinya item anggotanya tidak dapat diubah dan dihapus. Namun kita bisa mengisi tuple dengan berbagai macam nilai. Iterasi pada tuple lebih cepat dibandingkan dengan list. Tple bisa digunakan untuk menjadi key dalam dictionary. Penulisan tuple dengan cara meletakkannya di dalam kurung dan dipisah dengan tanda koma atau dengan tanpa tanda kurung. Mari kita lihat cara penulisannya."
   ]
  },
  {
   "cell_type": "code",
   "execution_count": 1,
   "metadata": {},
   "outputs": [
    {
     "name": "stdout",
     "output_type": "stream",
     "text": [
      "(1, 2.3, 'Umar', [5, 6], True)\n",
      "(1, 2.3, 'Umar', [5, 6], True)\n"
     ]
    }
   ],
   "source": [
    "tuple_1 = (1, 2.3, \"Umar\", [5, 6], True)\n",
    "tuple_2 = 1, 2.3, \"Umar\", [5, 6], True\n",
    "print(tuple_1)\n",
    "print(tuple_2)\n"
   ]
  },
  {
   "cell_type": "markdown",
   "metadata": {},
   "source": [
    "Terlihat perbedaan antara list dan tuple"
   ]
  },
  {
   "cell_type": "code",
   "execution_count": 2,
   "metadata": {},
   "outputs": [
    {
     "name": "stdout",
     "output_type": "stream",
     "text": [
      "[1, 2.3, 'Umar', [5, 6], True]\n",
      "(1, 2.3, 'Umar', [5, 6], True)\n"
     ]
    }
   ],
   "source": [
    "list_1 = [1, 2.3, \"Umar\", [5, 6], True]\n",
    "tuple_1 = (1, 2.3, \"Umar\", [5, 6], True)\n",
    "print(list_1)\n",
    "print(tuple_1)\n"
   ]
  },
  {
   "cell_type": "markdown",
   "metadata": {},
   "source": [
    "Tuple kosong dapat dibuat dengan cara :"
   ]
  },
  {
   "cell_type": "code",
   "execution_count": 3,
   "metadata": {},
   "outputs": [
    {
     "name": "stdout",
     "output_type": "stream",
     "text": [
      "()\n",
      "<class 'tuple'>\n"
     ]
    }
   ],
   "source": [
    "TupleKosong = ()\n",
    "print(TupleKosong)\n",
    "print(type(TupleKosong))\n"
   ]
  },
  {
   "cell_type": "markdown",
   "metadata": {},
   "source": [
    "**latihan**"
   ]
  },
  {
   "cell_type": "code",
   "execution_count": 4,
   "metadata": {},
   "outputs": [
    {
     "name": "stdout",
     "output_type": "stream",
     "text": [
      "2\n",
      "2000\n",
      "(20, 200, 2000)\n",
      "(2, 20)\n",
      "2 20 200 2000 "
     ]
    }
   ],
   "source": [
    "bilangan = (2, 20, 200, 2000)\n",
    "print(bilangan[0])\n",
    "print(bilangan[-1])\n",
    "print(bilangan[1:])\n",
    "print(bilangan[:-2])\n",
    "for elem in bilangan:\n",
    "      print(elem, end = \" \")\n"
   ]
  },
  {
   "cell_type": "code",
   "execution_count": null,
   "metadata": {},
   "outputs": [],
   "source": []
  }
 ],
 "metadata": {
  "kernelspec": {
   "display_name": "Python 3",
   "language": "python",
   "name": "python3"
  },
  "language_info": {
   "codemirror_mode": {
    "name": "ipython",
    "version": 3
   },
   "file_extension": ".py",
   "mimetype": "text/x-python",
   "name": "python",
   "nbconvert_exporter": "python",
   "pygments_lexer": "ipython3",
   "version": "3.7.3"
  }
 },
 "nbformat": 4,
 "nbformat_minor": 2
}
