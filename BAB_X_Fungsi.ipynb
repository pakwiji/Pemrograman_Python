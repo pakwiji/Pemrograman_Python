{
 "cells": [
  {
   "cell_type": "markdown",
   "metadata": {},
   "source": [
    "# **BAB X**"
   ]
  },
  {
   "cell_type": "markdown",
   "metadata": {},
   "source": [
    "## **Function**"
   ]
  },
  {
   "cell_type": "markdown",
   "metadata": {},
   "source": [
    "Pada bab V dijelaskan mengenai struktur perulangan pada python. Pada bab ini kita eksplore lagi untuk membuat sebuah program dengan satu kali penulisan bisa digunakan untuk berulang. Dalam python dikenal dengan perintah function. Definisi dari function (diterjemahkan dalam bahasa indonesia =fungsi) adalah sebuah grup/blok program yang berfungsi untuk melakukan tugas tertentu yang berulang. Blok program didefinisikan sekali untuk selanjutnya digunakan berungkali dalam baris program di bawahnya. Fungsi dalam python dibuat dengan kata kunci def kemudian diikuti dengan nama fungsinya. \n",
    "\n"
   ]
  },
  {
   "cell_type": "code",
   "execution_count": 2,
   "metadata": {},
   "outputs": [],
   "source": [
    "#membuat sebuah fungsi\n",
    "def nama_fungsi():\n",
    "    print (\"Hai, saya sebuah fungsi\")\n"
   ]
  },
  {
   "cell_type": "markdown",
   "metadata": {},
   "source": [
    "Jika kita panggil berulang maka dapat ditulis:"
   ]
  },
  {
   "cell_type": "code",
   "execution_count": 4,
   "metadata": {},
   "outputs": [
    {
     "name": "stdout",
     "output_type": "stream",
     "text": [
      "Hai, saya sebuah fungsi\n",
      "Hai, saya sebuah fungsi\n",
      "Hai, saya sebuah fungsi\n"
     ]
    }
   ],
   "source": [
    "#membuat sebuah fungsi\n",
    "def nama_fungsi():\n",
    "    print (\"Hai, saya sebuah fungsi\")\n",
    "    \n",
    "#cara memanggil fungsi\n",
    "nama_fungsi()\n",
    "nama_fungsi()\n",
    "nama_fungsi()\n"
   ]
  },
  {
   "cell_type": "code",
   "execution_count": null,
   "metadata": {},
   "outputs": [],
   "source": []
  }
 ],
 "metadata": {
  "kernelspec": {
   "display_name": "Python 3",
   "language": "python",
   "name": "python3"
  },
  "language_info": {
   "codemirror_mode": {
    "name": "ipython",
    "version": 3
   },
   "file_extension": ".py",
   "mimetype": "text/x-python",
   "name": "python",
   "nbconvert_exporter": "python",
   "pygments_lexer": "ipython3",
   "version": "3.7.3"
  }
 },
 "nbformat": 4,
 "nbformat_minor": 2
}
